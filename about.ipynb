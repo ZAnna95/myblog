{
  "cells": [
    {
      "cell_type": "raw",
      "metadata": {},
      "source": [
        "---\n",
        "title: \"Finley Malloc\"\n",
        "about:\n",
        "  id: hero-heading\n",
        "  template: jolla\n",
        "  image: ajja.jpg\n",
        "  links:\n",
        "    - icon: twitter\n",
        "      text: twitter\n",
        "      href: https://twitter.com\n",
        "    - icon: github\n",
        "      text: Github\n",
        "      href: https://github.com\n",
        "---"
      ],
      "id": "6382fa7f"
    },
    {
      "cell_type": "markdown",
      "metadata": {},
      "source": [
        "### This content appears above the formatted about page content.\n",
        "\n",
        ":::{#hero-heading}\n",
        "\n",
        "Finley Malloc is the Chief Data Scientist at Wengo Analytics. When not innovating on data platforms, Finley enjoys spending time unicycling and playing with her pet iguana.\n",
        "\n",
        "## Education\n",
        "\n",
        "University of California, San Diego | San Diego, CA\n",
        "PhD in Mathematics | Sept 2011 - June 2015\n",
        "\n",
        "Macalester College | St. Paul MA\n",
        "B.A in Economics | Sept 2007 - June 2011\n",
        "\n",
        "## Experience\n",
        "\n",
        "Wengo Analytics | Head Data Scientist | April 2018 - present\n",
        "\n",
        "GeoScynce | Chief Analyst | Sept 2012 - April 2018\n",
        "\n",
        ":::\n",
        "\n",
        "### This content appears below the formatted about page content."
      ],
      "id": "d0ea47d1"
    },
    {
      "cell_type": "markdown",
      "metadata": {},
      "source": [
        "---\n",
        "\n",
        "\n",
        "```{Finley Malloc is the Chief Data Scientist at Wengo Analytics. When not innovating on data platforms, Finley enjoys spending time unicycling and playing with her pet iguana.}\n",
        "\n",
        "## Education\n",
        "\n",
        "University of California, San Diego | San Diego, CA\n",
        "PhD in Mathematics | Sept 2011 - June 2015\n",
        "\n",
        "Macalester College | St. Paul MA\n",
        "B.A in Economics | Sept 2007 - June 2011\n",
        "\n",
        "## Experience\n",
        "\n",
        "Wengo Analytics | Head Data Scientist | April 2018 - present\n",
        "\n",
        "GeoScynce | Chief Analyst | Spet 2012 - April 2018\n",
        "\n",
        "\n",
        "```"
      ],
      "id": "b245faae"
    }
  ],
  "metadata": {
    "kernelspec": {
      "display_name": "Python 3",
      "language": "python",
      "name": "python3"
    }
  },
  "nbformat": 4,
  "nbformat_minor": 5
}